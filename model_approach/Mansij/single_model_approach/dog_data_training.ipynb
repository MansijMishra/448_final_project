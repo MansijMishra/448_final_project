{
 "cells": [
  {
   "cell_type": "code",
   "execution_count": 1,
   "id": "5eca9c27",
   "metadata": {},
   "outputs": [],
   "source": [
    "import tensorflow as tf\n",
    "from tensorflow.keras.applications import InceptionV3\n",
    "from tensorflow.keras.models import Model, Sequential\n",
    "from tensorflow.keras.layers import Input, UpSampling2D, Flatten, BatchNormalization, Dense, Dropout, GlobalAveragePooling2D\n",
    "from tensorflow.keras.applications.inception_v3 import preprocess_input\n",
    "from keras.optimizers import Adam\n",
    "from sklearn.model_selection import train_test_split\n",
    "import pickle\n",
    "import cv2"
   ]
  },
  {
   "cell_type": "code",
   "execution_count": 2,
   "id": "2cf46088",
   "metadata": {},
   "outputs": [],
   "source": [
    "X = pickle.load(open(\"/Users/mm22/Documents/Classes/fall_23/448/448_final_project/model_approach/pre_processing/X.pickle\", \"rb\"))\n",
    "y = pickle.load(open(\"/Users/mm22/Documents/Classes/fall_23/448/448_final_project/model_approach/pre_processing/y.pickle\", \"rb\"))"
   ]
  },
  {
   "cell_type": "code",
   "execution_count": 3,
   "id": "b1a461f3",
   "metadata": {},
   "outputs": [
    {
     "name": "stdout",
     "output_type": "stream",
     "text": [
      "Metal device set to: Apple M1 Pro\n"
     ]
    },
    {
     "name": "stderr",
     "output_type": "stream",
     "text": [
      "2023-12-19 10:32:16.120229: I tensorflow/core/common_runtime/pluggable_device/pluggable_device_factory.cc:305] Could not identify NUMA node of platform GPU ID 0, defaulting to 0. Your kernel may not have been built with NUMA support.\n",
      "2023-12-19 10:32:16.120406: I tensorflow/core/common_runtime/pluggable_device/pluggable_device_factory.cc:271] Created TensorFlow device (/job:localhost/replica:0/task:0/device:GPU:0 with 0 MB memory) -> physical PluggableDevice (device: 0, name: METAL, pci bus id: <undefined>)\n"
     ]
    },
    {
     "name": "stdout",
     "output_type": "stream",
     "text": [
      "Model: \"model\"\n",
      "_________________________________________________________________\n",
      " Layer (type)                Output Shape              Param #   \n",
      "=================================================================\n",
      " input_2 (InputLayer)        [(None, 299, 299, 3)]     0         \n",
      "                                                                 \n",
      " tf.math.truediv (TFOpLambda  (None, 299, 299, 3)      0         \n",
      " )                                                               \n",
      "                                                                 \n",
      " tf.math.subtract (TFOpLambd  (None, 299, 299, 3)      0         \n",
      " a)                                                              \n",
      "                                                                 \n",
      " inception_v3 (Functional)   (None, 8, 8, 2048)        21802784  \n",
      "                                                                 \n",
      " global_average_pooling2d (G  (None, 2048)             0         \n",
      " lobalAveragePooling2D)                                          \n",
      "                                                                 \n",
      " dense (Dense)               (None, 256)               524544    \n",
      "                                                                 \n",
      " dropout (Dropout)           (None, 256)               0         \n",
      "                                                                 \n",
      " batch_normalization_94 (Bat  (None, 256)              1024      \n",
      " chNormalization)                                                \n",
      "                                                                 \n",
      " dense_1 (Dense)             (None, 120)               30840     \n",
      "                                                                 \n",
      "=================================================================\n",
      "Total params: 22,359,192\n",
      "Trainable params: 555,896\n",
      "Non-trainable params: 21,803,296\n",
      "_________________________________________________________________\n"
     ]
    }
   ],
   "source": [
    "base_model = InceptionV3(weights='imagenet', include_top=False, input_shape=(299, 299, 3))\n",
    "base_model.trainable = False\n",
    "inputs = tf.keras.Input(shape=(299, 299, 3))\n",
    "x = inputs\n",
    "\n",
    "# pass results to a preprocessing layer\n",
    "x = tf.keras.applications.inception_v3.preprocess_input(x)\n",
    "\n",
    "# send results to the already trained model\n",
    "x = base_model(x, training=False)\n",
    "\n",
    "# send results to pooling layer\n",
    "x = tf.keras.layers.GlobalAveragePooling2D()(x)\n",
    "\n",
    "# send to fully connected layer\n",
    "x = tf.keras.layers.Dense(256,activation='relu')(x)\n",
    "\n",
    "# send to dropout layer\n",
    "x = tf.keras.layers.Dropout(.5)(x)\n",
    "\n",
    "# send to batch normalization layer\n",
    "x = tf.keras.layers.BatchNormalization()(x)\n",
    "\n",
    "# send to output dense layer with SoftMax activation function\n",
    "outputs = tf.keras.layers.Dense(120,activation='softmax')(x)\n",
    "\n",
    "# create a model with these layers\n",
    "model = tf.keras.Model(inputs, outputs)\n",
    "model.summary()"
   ]
  },
  {
   "cell_type": "code",
   "execution_count": 4,
   "id": "b54f2ff4",
   "metadata": {},
   "outputs": [],
   "source": [
    "model.compile(loss='sparse_categorical_crossentropy', optimizer=Adam(learning_rate=0.001), metrics=['accuracy'])\n",
    "x_train , x_test, y_train, y_test = train_test_split(X, y, test_size = 0.3, stratify=y)"
   ]
  },
  {
   "cell_type": "code",
   "execution_count": 5,
   "id": "daef4121",
   "metadata": {},
   "outputs": [
    {
     "name": "stdout",
     "output_type": "stream",
     "text": [
      "Epoch 1/10\n"
     ]
    },
    {
     "name": "stderr",
     "output_type": "stream",
     "text": [
      "2023-12-19 10:33:00.601758: W tensorflow/core/platform/profile_utils/cpu_utils.cc:128] Failed to get CPU frequency: 0 Hz\n",
      "2023-12-19 10:33:04.468315: I tensorflow/core/grappler/optimizers/custom_graph_optimizer_registry.cc:113] Plugin optimizer for device_type GPU is enabled.\n"
     ]
    },
    {
     "name": "stdout",
     "output_type": "stream",
     "text": [
      "451/451 [==============================] - 90s 186ms/step - loss: 1.2771 - accuracy: 0.7502\n",
      "Epoch 2/10\n",
      "451/451 [==============================] - 83s 184ms/step - loss: 0.4766 - accuracy: 0.8785\n",
      "Epoch 3/10\n",
      "451/451 [==============================] - 82s 182ms/step - loss: 0.3812 - accuracy: 0.8916\n",
      "Epoch 4/10\n",
      "451/451 [==============================] - 82s 182ms/step - loss: 0.3457 - accuracy: 0.8984\n",
      "Epoch 5/10\n",
      "451/451 [==============================] - 83s 184ms/step - loss: 0.3204 - accuracy: 0.9043\n",
      "Epoch 6/10\n",
      "451/451 [==============================] - 82s 182ms/step - loss: 0.3004 - accuracy: 0.9083\n",
      "Epoch 7/10\n",
      "451/451 [==============================] - 82s 183ms/step - loss: 0.2684 - accuracy: 0.9148\n",
      "Epoch 8/10\n",
      "451/451 [==============================] - 83s 183ms/step - loss: 0.2586 - accuracy: 0.9190\n",
      "Epoch 9/10\n",
      "451/451 [==============================] - 82s 183ms/step - loss: 0.2409 - accuracy: 0.9255\n",
      "Epoch 10/10\n",
      "451/451 [==============================] - 83s 183ms/step - loss: 0.2232 - accuracy: 0.9298\n"
     ]
    },
    {
     "data": {
      "text/plain": [
       "<keras.callbacks.History at 0x298862a30>"
      ]
     },
     "execution_count": 5,
     "metadata": {},
     "output_type": "execute_result"
    }
   ],
   "source": [
    "model.fit(x_train, y_train, batch_size=32, epochs=10)"
   ]
  },
  {
   "cell_type": "code",
   "execution_count": 6,
   "id": "c8818328",
   "metadata": {},
   "outputs": [],
   "source": [
    "model.save('dogbreedrecognition.h5')"
   ]
  }
 ],
 "metadata": {
  "kernelspec": {
   "display_name": "Python 3 (ipykernel)",
   "language": "python",
   "name": "python3"
  },
  "language_info": {
   "codemirror_mode": {
    "name": "ipython",
    "version": 3
   },
   "file_extension": ".py",
   "mimetype": "text/x-python",
   "name": "python",
   "nbconvert_exporter": "python",
   "pygments_lexer": "ipython3",
   "version": "3.9.16"
  }
 },
 "nbformat": 4,
 "nbformat_minor": 5
}
