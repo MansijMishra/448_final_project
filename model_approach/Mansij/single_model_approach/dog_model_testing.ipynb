{
 "cells": [
  {
   "cell_type": "code",
   "execution_count": 1,
   "id": "c0558182",
   "metadata": {},
   "outputs": [],
   "source": [
    "import tensorflow as tf\n",
    "from tensorflow import keras\n",
    "import cv2\n",
    "import numpy as np\n",
    "from PIL import Image, ImageOps\n",
    "import os"
   ]
  },
  {
   "cell_type": "code",
   "execution_count": 2,
   "id": "4d176c10",
   "metadata": {},
   "outputs": [
    {
     "name": "stdout",
     "output_type": "stream",
     "text": [
      "Metal device set to: Apple M1 Pro\n"
     ]
    },
    {
     "name": "stderr",
     "output_type": "stream",
     "text": [
      "2023-12-18 18:06:41.519508: I tensorflow/core/common_runtime/pluggable_device/pluggable_device_factory.cc:305] Could not identify NUMA node of platform GPU ID 0, defaulting to 0. Your kernel may not have been built with NUMA support.\n",
      "2023-12-18 18:06:41.519626: I tensorflow/core/common_runtime/pluggable_device/pluggable_device_factory.cc:271] Created TensorFlow device (/job:localhost/replica:0/task:0/device:GPU:0 with 0 MB memory) -> physical PluggableDevice (device: 0, name: METAL, pci bus id: <undefined>)\n"
     ]
    }
   ],
   "source": [
    "dog_model = keras.models.load_model('dogbreedrecognition.h5')"
   ]
  },
  {
   "cell_type": "code",
   "execution_count": 3,
   "id": "5d77c50a",
   "metadata": {},
   "outputs": [
    {
     "data": {
      "text/plain": [
       "['Australian_terrier',\n",
       " 'toy_poodle',\n",
       " 'Great_Pyrenees',\n",
       " 'Maltese_dog',\n",
       " 'Norwich_terrier',\n",
       " 'whippet',\n",
       " 'Boston_bull',\n",
       " 'Irish_setter',\n",
       " 'Rottweiler',\n",
       " 'kelpie',\n",
       " 'schipperke',\n",
       " 'Leonberg',\n",
       " 'Welsh_springer_spaniel',\n",
       " 'Pomeranian',\n",
       " 'Pekinese',\n",
       " 'Irish_wolfhound',\n",
       " 'Blenheim_spaniel',\n",
       " 'basenji',\n",
       " 'African_hunting_dog',\n",
       " 'komondor',\n",
       " 'Yorkshire_terrier',\n",
       " 'basset',\n",
       " 'Japanese_spaniel',\n",
       " 'standard_schnauzer',\n",
       " 'dhole',\n",
       " 'miniature_pinscher',\n",
       " 'Lhasa',\n",
       " 'Walker_hound',\n",
       " 'Kerry_blue_terrier',\n",
       " 'standard_poodle',\n",
       " 'Saint_Bernard',\n",
       " 'Chihuahua',\n",
       " 'Afghan_hound',\n",
       " 'Newfoundland',\n",
       " 'black-and-tan_coonhound',\n",
       " 'pug',\n",
       " 'Scottish_deerhound',\n",
       " 'cairn',\n",
       " 'malamute',\n",
       " 'beagle',\n",
       " 'vizsla',\n",
       " 'collie',\n",
       " 'Italian_greyhound',\n",
       " 'West_Highland_white_terrier',\n",
       " 'Brittany_spaniel',\n",
       " 'English_springer',\n",
       " 'affenpinscher',\n",
       " 'Doberman',\n",
       " 'silky_terrier',\n",
       " 'Pembroke',\n",
       " 'Weimaraner',\n",
       " 'papillon',\n",
       " 'Norwegian_elkhound',\n",
       " 'Sussex_spaniel',\n",
       " 'soft-coated_wheaten_terrier',\n",
       " 'Shih-Tzu',\n",
       " 'Ibizan_hound',\n",
       " 'cocker_spaniel',\n",
       " 'flat-coated_retriever',\n",
       " 'American_Staffordshire_terrier',\n",
       " 'Rhodesian_ridgeback',\n",
       " 'Samoyed',\n",
       " 'Brabancon_griffon',\n",
       " 'groenendael',\n",
       " 'Shetland_sheepdog',\n",
       " 'Bouvier_des_Flandres',\n",
       " 'Lakeland_terrier',\n",
       " 'Saluki',\n",
       " 'miniature_poodle',\n",
       " 'Tibetan_terrier',\n",
       " 'Eskimo_dog',\n",
       " 'golden_retriever',\n",
       " 'Staffordshire_bullterrier',\n",
       " 'giant_schnauzer',\n",
       " 'Bedlington_terrier',\n",
       " 'miniature_schnauzer',\n",
       " 'Border_collie',\n",
       " 'Appenzeller',\n",
       " 'borzoi',\n",
       " 'Border_terrier',\n",
       " 'Siberian_husky',\n",
       " 'chow',\n",
       " 'curly-coated_retriever',\n",
       " 'Airedale',\n",
       " 'dingo',\n",
       " 'otterhound',\n",
       " 'keeshond',\n",
       " 'French_bulldog',\n",
       " 'toy_terrier',\n",
       " 'Sealyham_terrier',\n",
       " 'Labrador_retriever',\n",
       " 'Bernese_mountain_dog',\n",
       " 'German_shepherd',\n",
       " 'briard',\n",
       " 'Chesapeake_Bay_retriever',\n",
       " 'kuvasz',\n",
       " 'malinois',\n",
       " 'Great_Dane',\n",
       " 'Norfolk_terrier',\n",
       " 'wire-haired_fox_terrier',\n",
       " 'Dandie_Dinmont',\n",
       " 'bull_mastiff',\n",
       " 'EntleBucher',\n",
       " 'Scotch_terrier',\n",
       " 'clumber',\n",
       " 'boxer',\n",
       " 'Cardigan',\n",
       " 'Tibetan_mastiff',\n",
       " 'bloodhound',\n",
       " 'Irish_water_spaniel',\n",
       " 'Old_English_sheepdog',\n",
       " 'bluetick',\n",
       " 'Irish_terrier',\n",
       " 'Mexican_hairless',\n",
       " 'English_setter',\n",
       " 'redbone',\n",
       " 'Gordon_setter',\n",
       " 'English_foxhound',\n",
       " 'German_short-haired_pointer',\n",
       " 'Greater_Swiss_Mountain_dog']"
      ]
     },
     "execution_count": 3,
     "metadata": {},
     "output_type": "execute_result"
    }
   ],
   "source": [
    "dog_categories = []\n",
    "\n",
    "for root, dirs, files in os.walk(\"/Users/mm22/Downloads/Dog_images\"):\n",
    "    for dir_name in dirs:\n",
    "        dog_categories.append(dir_name)\n",
    "dog_categories"
   ]
  },
  {
   "cell_type": "code",
   "execution_count": 4,
   "id": "ea112a8c",
   "metadata": {},
   "outputs": [],
   "source": [
    "# function to prepare the image\n",
    "def prepare_specificmodel(filepath):\n",
    "    IMG_SIZE = 299\n",
    "    img_array = cv2.imread(filepath)[...,::-1]\n",
    "    new_array = cv2.resize(img_array, (IMG_SIZE, IMG_SIZE))\n",
    "    return new_array.reshape(-1, IMG_SIZE, IMG_SIZE, 3)\n",
    "\n",
    "# model recognition function\n",
    "def identify_dog(image_path):\n",
    "    prediction = dog_model.predict([prepare_specificmodel(image_path)])\n",
    "    #print(categories[int(prediction)])\n",
    "    prediction_list = list(prediction[0])\n",
    "    max_index = prediction_list.index(max(prediction_list))\n",
    "    print(\"Breed: \", dog_categories[max_index], max(prediction_list))"
   ]
  },
  {
   "cell_type": "code",
   "execution_count": 5,
   "id": "684f072d",
   "metadata": {},
   "outputs": [
    {
     "name": "stderr",
     "output_type": "stream",
     "text": [
      "2023-12-18 18:07:05.562077: W tensorflow/core/platform/profile_utils/cpu_utils.cc:128] Failed to get CPU frequency: 0 Hz\n",
      "2023-12-18 18:07:05.981173: I tensorflow/core/grappler/optimizers/custom_graph_optimizer_registry.cc:113] Plugin optimizer for device_type GPU is enabled.\n"
     ]
    },
    {
     "name": "stdout",
     "output_type": "stream",
     "text": [
      "1/1 [==============================] - 5s 5s/step\n",
      "Breed:  Pembroke 0.84357554\n"
     ]
    }
   ],
   "source": [
    "#testing the model recognition. Input the path to an image as demonstrated below\n",
    "path = '/Users/mm22/Downloads/junk/testing/Pembroke/n02113023_1151.jpg'\n",
    "identify_dog(path)"
   ]
  }
 ],
 "metadata": {
  "kernelspec": {
   "display_name": "Python 3 (ipykernel)",
   "language": "python",
   "name": "python3"
  },
  "language_info": {
   "codemirror_mode": {
    "name": "ipython",
    "version": 3
   },
   "file_extension": ".py",
   "mimetype": "text/x-python",
   "name": "python",
   "nbconvert_exporter": "python",
   "pygments_lexer": "ipython3",
   "version": "3.9.16"
  }
 },
 "nbformat": 4,
 "nbformat_minor": 5
}
